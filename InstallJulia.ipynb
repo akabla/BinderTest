{
 "cells": [
  {
   "cell_type": "code",
   "execution_count": 1,
   "id": "ffe2fdac-08aa-424b-a7dc-1806c803e4c4",
   "metadata": {},
   "outputs": [
    {
     "name": "stderr",
     "output_type": "stream",
     "text": [
      "[ Info: Julia version info\n"
     ]
    },
    {
     "name": "stdout",
     "output_type": "stream",
     "text": [
      "Julia Version 1.6.2\n",
      "Commit 1b93d53fc4 (2021-07-14 15:36 UTC)\n",
      "Platform Info:\n",
      "  OS: Linux (x86_64-pc-linux-gnu)\n",
      "  uname: Linux 5.4.109+ #1 SMP Tue Jun 8 19:56:04 PDT 2021 x86_64 x86_64\n",
      "  CPU: Intel(R) Xeon(R) CPU @ 2.30GHz: \n",
      "              speed         user         nice          sys         idle          irq\n",
      "       #1  2299 MHz    2582313 s        570 s     411579 s    5364280 s          0 s\n",
      "       #2  2299 MHz    2775414 s        455 s     401916 s    5200662 s          0 s\n",
      "       #3  2299 MHz    2272539 s        432 s     419847 s    5674846 s          0 s\n",
      "       #4  2299 MHz    2793666 s        510 s     403456 s    5194317 s          0 s\n",
      "       #5  2299 MHz    2671150 s        552 s     408520 s    5303679 s          0 s\n",
      "       #6  2299 MHz    2342320 s        511 s     411668 s    5623649 s          0 s\n",
      "       #7  2299 MHz    2612837 s        428 s     407031 s    5367120 s          0 s\n",
      "       #8  2299 MHz    2246855 s        440 s     435130 s    5662306 s          0 s\n",
      "       \n",
      "  Memory: 51.0057258605957 GB (709.4296875 MB free)\n",
      "  Uptime: 862828.0 sec\n",
      "  Load Avg:  11.64  11.75  8.85\n",
      "  WORD_SIZE: 64\n",
      "  LIBM: libopenlibm\n",
      "  LLVM: libLLVM-11.0.1 (ORCJIT, haswell)\n",
      "Environment:\n",
      "  JULIA_PATH = /srv/julia\n",
      "  JULIA_DEPOT_PATH = /srv/julia/pkg\n",
      "  JULIA_PROJECT = /home/jovyan\n",
      "  JULIA_VERSION = 1.6.2\n",
      "  JULIA_PATH = /srv/julia\n",
      "  JULIA_DEPOT_PATH = /srv/julia/pkg\n",
      "  HOME = /home/jovyan\n",
      "  PATH = /srv/conda/envs/notebook/bin:/srv/conda/condabin:/home/jovyan/.local/bin:/home/jovyan/.local/bin:/srv/conda/envs/notebook/bin:/srv/conda/bin:/srv/npm/bin:/srv/julia/bin:/usr/local/sbin:/usr/local/bin:/usr/sbin:/usr/bin:/sbin:/bin\n",
      "  TERM = xterm-color\n"
     ]
    },
    {
     "name": "stderr",
     "output_type": "stream",
     "text": [
      "[ Info: Julia executable: /srv/julia/bin/julia\n",
      "[ Info: Trying to import PyCall...\n",
      "┌ Warning: PyCall is already installed.  However, you may have trouble using\n",
      "│ this Python executable because it is statically linked to libpython.\n",
      "│ \n",
      "│ For more information, see:\n",
      "│     https://pyjulia.readthedocs.io/en/latest/troubleshooting.html\n",
      "│ \n",
      "│ Python executable:\n",
      "│     /srv/conda/envs/notebook/bin/python\n",
      "│ Julia executable:\n",
      "│     /srv/julia/bin/julia\n",
      "└ @ Main /srv/conda/envs/notebook/lib/python3.7/site-packages/julia/install.jl:90\n"
     ]
    }
   ],
   "source": [
    "import julia\n",
    "julia.install()"
   ]
  },
  {
   "cell_type": "code",
   "execution_count": 2,
   "id": "a76ce97e-f7c3-44b2-8bdb-bf87200165dc",
   "metadata": {},
   "outputs": [],
   "source": [
    "jl = julia.Julia(compiled_modules=False)\n",
    "from julia import RHEOS"
   ]
  },
  {
   "cell_type": "code",
   "execution_count": 3,
   "id": "c0d5f76b-abd9-471d-ada3-9a136eb16a36",
   "metadata": {},
   "outputs": [
    {
     "data": {
      "text/plain": [
       "<PyCall.jlwrap \n",
       "Model name: maxwell\n",
       "\n",
       "Free parameters: η and k\n",
       "\n",
       "                ___\n",
       "            _____| |________╱╲  ╱╲  ╱╲  ___\n",
       "                _|_|          ╲╱  ╲╱  ╲╱\n",
       "                  η                  k\n",
       "               >"
      ]
     },
     "execution_count": 3,
     "metadata": {},
     "output_type": "execute_result"
    }
   ],
   "source": [
    "RHEOS.Maxwell"
   ]
  },
  {
   "cell_type": "code",
   "execution_count": null,
   "id": "7c5788c3-f16f-4d80-8071-8df2f72480ce",
   "metadata": {},
   "outputs": [],
   "source": []
  }
 ],
 "metadata": {
  "kernelspec": {
   "display_name": "Python 3 (ipykernel)",
   "language": "python",
   "name": "python3"
  },
  "language_info": {
   "codemirror_mode": {
    "name": "ipython",
    "version": 3
   },
   "file_extension": ".py",
   "mimetype": "text/x-python",
   "name": "python",
   "nbconvert_exporter": "python",
   "pygments_lexer": "ipython3",
   "version": "3.7.10"
  }
 },
 "nbformat": 4,
 "nbformat_minor": 5
}
