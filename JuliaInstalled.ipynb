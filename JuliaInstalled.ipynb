{
 "cells": [
  {
   "cell_type": "code",
   "execution_count": 1,
   "id": "73493fa3-3755-4b93-944b-df1cdf364700",
   "metadata": {},
   "outputs": [],
   "source": [
    "from RHEOS import *"
   ]
  },
  {
   "cell_type": "code",
   "execution_count": 2,
   "id": "f2ee27ef-8795-4d13-b0cc-ba562304ba34",
   "metadata": {},
   "outputs": [
    {
     "data": {
      "text/plain": [
       "<PyCall.jlwrap \n",
       "Model name: maxwell\n",
       "\n",
       "Free parameters: η and k\n",
       "\n",
       "                ___\n",
       "            _____| |________╱╲  ╱╲  ╱╲  ___\n",
       "                _|_|          ╲╱  ╲╱  ╲╱\n",
       "                  η                  k\n",
       "               >"
      ]
     },
     "execution_count": 2,
     "metadata": {},
     "output_type": "execute_result"
    }
   ],
   "source": [
    "RHEOS.Maxwell"
   ]
  },
  {
   "cell_type": "code",
   "execution_count": null,
   "id": "fc589d48-d9e0-4883-a664-2b9e5695a2a3",
   "metadata": {},
   "outputs": [],
   "source": []
  }
 ],
 "metadata": {
  "kernelspec": {
   "display_name": "Python 3 (ipykernel)",
   "language": "python",
   "name": "python3"
  },
  "language_info": {
   "codemirror_mode": {
    "name": "ipython",
    "version": 3
   },
   "file_extension": ".py",
   "mimetype": "text/x-python",
   "name": "python",
   "nbconvert_exporter": "python",
   "pygments_lexer": "ipython3",
   "version": "3.7.10"
  }
 },
 "nbformat": 4,
 "nbformat_minor": 5
}
